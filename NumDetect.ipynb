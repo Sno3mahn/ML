{
  "nbformat": 4,
  "nbformat_minor": 0,
  "metadata": {
    "colab": {
      "name": "NumDetect.ipynb",
      "provenance": [],
      "authorship_tag": "ABX9TyO/HlsEbJ86Ecnvyrz/W1fB",
      "include_colab_link": true
    },
    "kernelspec": {
      "name": "python3",
      "display_name": "Python 3"
    },
    "language_info": {
      "name": "python"
    }
  },
  "cells": [
    {
      "cell_type": "markdown",
      "metadata": {
        "id": "view-in-github",
        "colab_type": "text"
      },
      "source": [
        "<a href=\"https://colab.research.google.com/github/Sno3mahn/MNIST-Dataset-using-LeNet/blob/main/NumDetect.ipynb\" target=\"_parent\"><img src=\"https://colab.research.google.com/assets/colab-badge.svg\" alt=\"Open In Colab\"/></a>"
      ]
    },
    {
      "cell_type": "code",
      "metadata": {
        "id": "qd6LYyvDz-x1"
      },
      "source": [
        "import tensorflow as tf \n",
        "from keras.models import Sequential\n",
        "from keras.datasets import mnist\n",
        "from keras.utils import np_utils\n",
        "from keras.layers import Conv2D, Dense, Flatten, Activation, MaxPooling2D\n",
        "import matplotlib.pyplot as plt\n",
        "import pandas as pd\n",
        "import numpy as np"
      ],
      "execution_count": 40,
      "outputs": []
    },
    {
      "cell_type": "code",
      "metadata": {
        "id": "wz06wgkA0jFo"
      },
      "source": [
        "(X_train, y_train), (X_test, y_test) = mnist.load_data()\n",
        "\n",
        "row,col=X_train[0].shape[0],X_train[0].shape[0]\n",
        "\n",
        "X_train=X_train.reshape(X_train.shape[0], row,col,1)\n",
        "X_test=X_test.reshape(X_test.shape[0], row,col,1)\n",
        "\n",
        "X_train=X_train.astype('float32')\n",
        "X_test=X_test.astype('float32')\n",
        "\n",
        "X_train/=255\n",
        "X_test /=255\n",
        "\n",
        "categories=len(pd.unique(y_test))\n",
        "\n",
        "y_train =np_utils.to_categorical(y_train)\n",
        "y_test =np_utils.to_categorical(y_test)\n"
      ],
      "execution_count": 41,
      "outputs": []
    },
    {
      "cell_type": "code",
      "metadata": {
        "colab": {
          "base_uri": "https://localhost:8080/"
        },
        "id": "yHEzM4Xy1csp",
        "outputId": "d5ed1bf6-fa0e-4840-bb99-2c2880f6fb30"
      },
      "source": [
        "model=Sequential()\n",
        "\n",
        "model.add(Conv2D(filters=6,kernel_size=(5,5), \n",
        "                 padding='same', input_shape=(row,col,1)))\n",
        "model.add(Activation('relu'))\n",
        "model.add(MaxPooling2D(pool_size = (2,2)))\n",
        "\n",
        "model.add(Conv2D(filters=16,kernel_size=(5,5), \n",
        "                 padding='same'))\n",
        "model.add(Activation('relu'))\n",
        "model.add(MaxPooling2D(pool_size = (2,2)))\n",
        "\n",
        "model.add(Flatten())\n",
        "\n",
        "model.add(Dense(120))\n",
        "model.add(Activation('relu'))\n",
        "\n",
        "model.add(Dense(categories))\n",
        "model.add(Activation(\"softmax\"))\n",
        "\n",
        "model.compile(loss = 'categorical_crossentropy',\n",
        "              optimizer = tf.keras.optimizers.Adadelta() ,\n",
        "              metrics = ['accuracy'])\n",
        "\n",
        "print(model.summary())"
      ],
      "execution_count": 42,
      "outputs": [
        {
          "output_type": "stream",
          "name": "stdout",
          "text": [
            "Model: \"sequential_1\"\n",
            "_________________________________________________________________\n",
            " Layer (type)                Output Shape              Param #   \n",
            "=================================================================\n",
            " conv2d_2 (Conv2D)           (None, 28, 28, 6)         156       \n",
            "                                                                 \n",
            " activation_4 (Activation)   (None, 28, 28, 6)         0         \n",
            "                                                                 \n",
            " max_pooling2d_2 (MaxPooling  (None, 14, 14, 6)        0         \n",
            " 2D)                                                             \n",
            "                                                                 \n",
            " conv2d_3 (Conv2D)           (None, 14, 14, 16)        2416      \n",
            "                                                                 \n",
            " activation_5 (Activation)   (None, 14, 14, 16)        0         \n",
            "                                                                 \n",
            " max_pooling2d_3 (MaxPooling  (None, 7, 7, 16)         0         \n",
            " 2D)                                                             \n",
            "                                                                 \n",
            " flatten_1 (Flatten)         (None, 784)               0         \n",
            "                                                                 \n",
            " dense_2 (Dense)             (None, 120)               94200     \n",
            "                                                                 \n",
            " activation_6 (Activation)   (None, 120)               0         \n",
            "                                                                 \n",
            " dense_3 (Dense)             (None, 10)                1210      \n",
            "                                                                 \n",
            " activation_7 (Activation)   (None, 10)                0         \n",
            "                                                                 \n",
            "=================================================================\n",
            "Total params: 97,982\n",
            "Trainable params: 97,982\n",
            "Non-trainable params: 0\n",
            "_________________________________________________________________\n",
            "None\n"
          ]
        }
      ]
    },
    {
      "cell_type": "code",
      "metadata": {
        "colab": {
          "base_uri": "https://localhost:8080/"
        },
        "id": "jVKAdCGX1kPI",
        "outputId": "3373c915-99d3-4962-d93b-75dd5ff43623"
      },
      "source": [
        "batch_size = 128\n",
        "epochs = 70\n",
        "\n",
        "history = model.fit(X_train, y_train,\n",
        "          batch_size=batch_size,\n",
        "          epochs=epochs,\n",
        "          validation_data=(X_test, y_test),\n",
        "          shuffle=True)\n"
      ],
      "execution_count": 43,
      "outputs": [
        {
          "output_type": "stream",
          "name": "stdout",
          "text": [
            "Epoch 1/70\n",
            "469/469 [==============================] - 5s 10ms/step - loss: 2.3066 - accuracy: 0.1013 - val_loss: 2.2962 - val_accuracy: 0.0982\n",
            "Epoch 2/70\n",
            "469/469 [==============================] - 4s 8ms/step - loss: 2.2866 - accuracy: 0.1098 - val_loss: 2.2762 - val_accuracy: 0.1087\n",
            "Epoch 3/70\n",
            "469/469 [==============================] - 4s 9ms/step - loss: 2.2666 - accuracy: 0.1239 - val_loss: 2.2559 - val_accuracy: 0.1305\n",
            "Epoch 4/70\n",
            "469/469 [==============================] - 4s 9ms/step - loss: 2.2462 - accuracy: 0.1596 - val_loss: 2.2349 - val_accuracy: 0.1906\n",
            "Epoch 5/70\n",
            "469/469 [==============================] - 4s 8ms/step - loss: 2.2246 - accuracy: 0.2393 - val_loss: 2.2123 - val_accuracy: 0.2957\n",
            "Epoch 6/70\n",
            "469/469 [==============================] - 4s 8ms/step - loss: 2.2012 - accuracy: 0.3510 - val_loss: 2.1873 - val_accuracy: 0.4110\n",
            "Epoch 7/70\n",
            "469/469 [==============================] - 4s 8ms/step - loss: 2.1747 - accuracy: 0.4565 - val_loss: 2.1587 - val_accuracy: 0.5053\n",
            "Epoch 8/70\n",
            "469/469 [==============================] - 4s 8ms/step - loss: 2.1442 - accuracy: 0.5313 - val_loss: 2.1257 - val_accuracy: 0.5730\n",
            "Epoch 9/70\n",
            "469/469 [==============================] - 4s 8ms/step - loss: 2.1093 - accuracy: 0.5850 - val_loss: 2.0878 - val_accuracy: 0.6118\n",
            "Epoch 10/70\n",
            "469/469 [==============================] - 4s 8ms/step - loss: 2.0690 - accuracy: 0.6185 - val_loss: 2.0438 - val_accuracy: 0.6344\n",
            "Epoch 11/70\n",
            "469/469 [==============================] - 4s 9ms/step - loss: 2.0225 - accuracy: 0.6382 - val_loss: 1.9932 - val_accuracy: 0.6499\n",
            "Epoch 12/70\n",
            "469/469 [==============================] - 4s 9ms/step - loss: 1.9689 - accuracy: 0.6512 - val_loss: 1.9351 - val_accuracy: 0.6596\n",
            "Epoch 13/70\n",
            "469/469 [==============================] - 4s 9ms/step - loss: 1.9081 - accuracy: 0.6593 - val_loss: 1.8697 - val_accuracy: 0.6662\n",
            "Epoch 14/70\n",
            "469/469 [==============================] - 4s 8ms/step - loss: 1.8399 - accuracy: 0.6646 - val_loss: 1.7964 - val_accuracy: 0.6741\n",
            "Epoch 15/70\n",
            "469/469 [==============================] - 4s 9ms/step - loss: 1.7645 - accuracy: 0.6710 - val_loss: 1.7166 - val_accuracy: 0.6792\n",
            "Epoch 16/70\n",
            "469/469 [==============================] - 4s 8ms/step - loss: 1.6833 - accuracy: 0.6777 - val_loss: 1.6314 - val_accuracy: 0.6867\n",
            "Epoch 17/70\n",
            "469/469 [==============================] - 4s 8ms/step - loss: 1.5980 - accuracy: 0.6847 - val_loss: 1.5434 - val_accuracy: 0.6941\n",
            "Epoch 18/70\n",
            "469/469 [==============================] - 4s 8ms/step - loss: 1.5113 - accuracy: 0.6939 - val_loss: 1.4553 - val_accuracy: 0.7010\n",
            "Epoch 19/70\n",
            "469/469 [==============================] - 4s 8ms/step - loss: 1.4255 - accuracy: 0.7029 - val_loss: 1.3690 - val_accuracy: 0.7120\n",
            "Epoch 20/70\n",
            "469/469 [==============================] - 4s 8ms/step - loss: 1.3424 - accuracy: 0.7137 - val_loss: 1.2868 - val_accuracy: 0.7216\n",
            "Epoch 21/70\n",
            "469/469 [==============================] - 4s 9ms/step - loss: 1.2639 - accuracy: 0.7241 - val_loss: 1.2100 - val_accuracy: 0.7329\n",
            "Epoch 22/70\n",
            "469/469 [==============================] - 4s 9ms/step - loss: 1.1913 - accuracy: 0.7341 - val_loss: 1.1395 - val_accuracy: 0.7422\n",
            "Epoch 23/70\n",
            "469/469 [==============================] - 4s 9ms/step - loss: 1.1246 - accuracy: 0.7430 - val_loss: 1.0752 - val_accuracy: 0.7509\n",
            "Epoch 24/70\n",
            "469/469 [==============================] - 4s 9ms/step - loss: 1.0642 - accuracy: 0.7513 - val_loss: 1.0174 - val_accuracy: 0.7599\n",
            "Epoch 25/70\n",
            "469/469 [==============================] - 4s 9ms/step - loss: 1.0099 - accuracy: 0.7593 - val_loss: 0.9653 - val_accuracy: 0.7682\n",
            "Epoch 26/70\n",
            "469/469 [==============================] - 4s 9ms/step - loss: 0.9609 - accuracy: 0.7671 - val_loss: 0.9183 - val_accuracy: 0.7780\n",
            "Epoch 27/70\n",
            "469/469 [==============================] - 4s 8ms/step - loss: 0.9166 - accuracy: 0.7737 - val_loss: 0.8760 - val_accuracy: 0.7844\n",
            "Epoch 28/70\n",
            "469/469 [==============================] - 4s 8ms/step - loss: 0.8768 - accuracy: 0.7795 - val_loss: 0.8378 - val_accuracy: 0.7913\n",
            "Epoch 29/70\n",
            "469/469 [==============================] - 4s 9ms/step - loss: 0.8406 - accuracy: 0.7858 - val_loss: 0.8035 - val_accuracy: 0.7968\n",
            "Epoch 30/70\n",
            "469/469 [==============================] - 4s 8ms/step - loss: 0.8078 - accuracy: 0.7922 - val_loss: 0.7723 - val_accuracy: 0.8020\n",
            "Epoch 31/70\n",
            "469/469 [==============================] - 4s 8ms/step - loss: 0.7779 - accuracy: 0.7978 - val_loss: 0.7438 - val_accuracy: 0.8078\n",
            "Epoch 32/70\n",
            "469/469 [==============================] - 4s 8ms/step - loss: 0.7506 - accuracy: 0.8033 - val_loss: 0.7177 - val_accuracy: 0.8142\n",
            "Epoch 33/70\n",
            "469/469 [==============================] - 4s 8ms/step - loss: 0.7254 - accuracy: 0.8087 - val_loss: 0.6935 - val_accuracy: 0.8199\n",
            "Epoch 34/70\n",
            "469/469 [==============================] - 4s 8ms/step - loss: 0.7021 - accuracy: 0.8137 - val_loss: 0.6712 - val_accuracy: 0.8252\n",
            "Epoch 35/70\n",
            "469/469 [==============================] - 4s 9ms/step - loss: 0.6805 - accuracy: 0.8190 - val_loss: 0.6508 - val_accuracy: 0.8295\n",
            "Epoch 36/70\n",
            "469/469 [==============================] - 4s 8ms/step - loss: 0.6606 - accuracy: 0.8234 - val_loss: 0.6317 - val_accuracy: 0.8353\n",
            "Epoch 37/70\n",
            "469/469 [==============================] - 4s 9ms/step - loss: 0.6421 - accuracy: 0.8275 - val_loss: 0.6140 - val_accuracy: 0.8384\n",
            "Epoch 38/70\n",
            "469/469 [==============================] - 4s 9ms/step - loss: 0.6249 - accuracy: 0.8322 - val_loss: 0.5976 - val_accuracy: 0.8423\n",
            "Epoch 39/70\n",
            "469/469 [==============================] - 4s 8ms/step - loss: 0.6087 - accuracy: 0.8366 - val_loss: 0.5823 - val_accuracy: 0.8465\n",
            "Epoch 40/70\n",
            "469/469 [==============================] - 4s 8ms/step - loss: 0.5936 - accuracy: 0.8403 - val_loss: 0.5679 - val_accuracy: 0.8515\n",
            "Epoch 41/70\n",
            "469/469 [==============================] - 4s 8ms/step - loss: 0.5794 - accuracy: 0.8445 - val_loss: 0.5543 - val_accuracy: 0.8544\n",
            "Epoch 42/70\n",
            "469/469 [==============================] - 4s 9ms/step - loss: 0.5661 - accuracy: 0.8483 - val_loss: 0.5414 - val_accuracy: 0.8582\n",
            "Epoch 43/70\n",
            "469/469 [==============================] - 4s 9ms/step - loss: 0.5534 - accuracy: 0.8512 - val_loss: 0.5295 - val_accuracy: 0.8613\n",
            "Epoch 44/70\n",
            "469/469 [==============================] - 4s 8ms/step - loss: 0.5415 - accuracy: 0.8542 - val_loss: 0.5183 - val_accuracy: 0.8644\n",
            "Epoch 45/70\n",
            "469/469 [==============================] - 4s 9ms/step - loss: 0.5304 - accuracy: 0.8572 - val_loss: 0.5076 - val_accuracy: 0.8681\n",
            "Epoch 46/70\n",
            "469/469 [==============================] - 4s 8ms/step - loss: 0.5198 - accuracy: 0.8604 - val_loss: 0.4976 - val_accuracy: 0.8703\n",
            "Epoch 47/70\n",
            "469/469 [==============================] - 4s 8ms/step - loss: 0.5098 - accuracy: 0.8626 - val_loss: 0.4882 - val_accuracy: 0.8722\n",
            "Epoch 48/70\n",
            "469/469 [==============================] - 4s 9ms/step - loss: 0.5003 - accuracy: 0.8655 - val_loss: 0.4789 - val_accuracy: 0.8746\n",
            "Epoch 49/70\n",
            "469/469 [==============================] - 4s 8ms/step - loss: 0.4913 - accuracy: 0.8676 - val_loss: 0.4705 - val_accuracy: 0.8763\n",
            "Epoch 50/70\n",
            "469/469 [==============================] - 4s 8ms/step - loss: 0.4828 - accuracy: 0.8696 - val_loss: 0.4624 - val_accuracy: 0.8785\n",
            "Epoch 51/70\n",
            "469/469 [==============================] - 4s 8ms/step - loss: 0.4746 - accuracy: 0.8717 - val_loss: 0.4548 - val_accuracy: 0.8805\n",
            "Epoch 52/70\n",
            "469/469 [==============================] - 4s 8ms/step - loss: 0.4669 - accuracy: 0.8736 - val_loss: 0.4472 - val_accuracy: 0.8824\n",
            "Epoch 53/70\n",
            "469/469 [==============================] - 4s 8ms/step - loss: 0.4594 - accuracy: 0.8755 - val_loss: 0.4400 - val_accuracy: 0.8848\n",
            "Epoch 54/70\n",
            "469/469 [==============================] - 4s 8ms/step - loss: 0.4523 - accuracy: 0.8774 - val_loss: 0.4332 - val_accuracy: 0.8863\n",
            "Epoch 55/70\n",
            "469/469 [==============================] - 4s 8ms/step - loss: 0.4455 - accuracy: 0.8789 - val_loss: 0.4267 - val_accuracy: 0.8876\n",
            "Epoch 56/70\n",
            "469/469 [==============================] - 4s 8ms/step - loss: 0.4390 - accuracy: 0.8810 - val_loss: 0.4206 - val_accuracy: 0.8898\n",
            "Epoch 57/70\n",
            "469/469 [==============================] - 4s 8ms/step - loss: 0.4327 - accuracy: 0.8827 - val_loss: 0.4146 - val_accuracy: 0.8911\n",
            "Epoch 58/70\n",
            "469/469 [==============================] - 4s 8ms/step - loss: 0.4267 - accuracy: 0.8840 - val_loss: 0.4087 - val_accuracy: 0.8921\n",
            "Epoch 59/70\n",
            "469/469 [==============================] - 4s 8ms/step - loss: 0.4209 - accuracy: 0.8853 - val_loss: 0.4031 - val_accuracy: 0.8930\n",
            "Epoch 60/70\n",
            "469/469 [==============================] - 4s 9ms/step - loss: 0.4154 - accuracy: 0.8868 - val_loss: 0.3980 - val_accuracy: 0.8948\n",
            "Epoch 61/70\n",
            "469/469 [==============================] - 4s 8ms/step - loss: 0.4100 - accuracy: 0.8879 - val_loss: 0.3927 - val_accuracy: 0.8968\n",
            "Epoch 62/70\n",
            "469/469 [==============================] - 4s 8ms/step - loss: 0.4049 - accuracy: 0.8893 - val_loss: 0.3878 - val_accuracy: 0.8966\n",
            "Epoch 63/70\n",
            "469/469 [==============================] - 4s 8ms/step - loss: 0.3999 - accuracy: 0.8900 - val_loss: 0.3829 - val_accuracy: 0.8986\n",
            "Epoch 64/70\n",
            "469/469 [==============================] - 4s 9ms/step - loss: 0.3951 - accuracy: 0.8913 - val_loss: 0.3783 - val_accuracy: 0.8998\n",
            "Epoch 65/70\n",
            "469/469 [==============================] - 4s 8ms/step - loss: 0.3905 - accuracy: 0.8927 - val_loss: 0.3738 - val_accuracy: 0.9016\n",
            "Epoch 66/70\n",
            "469/469 [==============================] - 4s 8ms/step - loss: 0.3860 - accuracy: 0.8934 - val_loss: 0.3695 - val_accuracy: 0.9025\n",
            "Epoch 67/70\n",
            "469/469 [==============================] - 4s 8ms/step - loss: 0.3816 - accuracy: 0.8945 - val_loss: 0.3653 - val_accuracy: 0.9030\n",
            "Epoch 68/70\n",
            "469/469 [==============================] - 4s 8ms/step - loss: 0.3774 - accuracy: 0.8958 - val_loss: 0.3613 - val_accuracy: 0.9046\n",
            "Epoch 69/70\n",
            "469/469 [==============================] - 4s 8ms/step - loss: 0.3734 - accuracy: 0.8965 - val_loss: 0.3573 - val_accuracy: 0.9045\n",
            "Epoch 70/70\n",
            "469/469 [==============================] - 4s 9ms/step - loss: 0.3695 - accuracy: 0.8977 - val_loss: 0.3535 - val_accuracy: 0.9060\n"
          ]
        }
      ]
    },
    {
      "cell_type": "code",
      "metadata": {
        "colab": {
          "base_uri": "https://localhost:8080/"
        },
        "id": "31yg05OMKY-4",
        "outputId": "696c57c4-c2ae-4977-83e7-a5abdef5780b"
      },
      "source": [
        "scores = model.evaluate(X_test, y_test, verbose=1)\n",
        "print('Test loss:', scores[0])\n",
        "print('Test accuracy:', scores[1])"
      ],
      "execution_count": 44,
      "outputs": [
        {
          "output_type": "stream",
          "name": "stdout",
          "text": [
            "313/313 [==============================] - 1s 4ms/step - loss: 0.3535 - accuracy: 0.9060\n",
            "Test loss: 0.35351207852363586\n",
            "Test accuracy: 0.906000018119812\n"
          ]
        }
      ]
    },
    {
      "cell_type": "code",
      "metadata": {
        "colab": {
          "base_uri": "https://localhost:8080/",
          "height": 265
        },
        "id": "AiAiC31YQONr",
        "outputId": "bd546d17-c1a1-43a7-83a9-12c99cb33085"
      },
      "source": [
        "(_, _), (x_test, _) = mnist.load_data()\n",
        "index=6\n",
        "img_pred=x_test[index]\n",
        "plt.imshow(img_pred)\n",
        "img_test_1d = img_pred.reshape(1 , row, col, 1)"
      ],
      "execution_count": 45,
      "outputs": [
        {
          "output_type": "display_data",
          "data": {
            "image/png": "[encoded data removed]",
            "text/plain": [
              "<Figure size 432x288 with 1 Axes>"
            ]
          },
          "metadata": {
            "needs_background": "light"
          }
        }
      ]
    },
    {
      "cell_type": "code",
      "metadata": {
        "colab": {
          "base_uri": "https://localhost:8080/"
        },
        "id": "FjN1OoeuRqnO",
        "outputId": "0f0be60b-403f-41b2-eb6f-cca047abe469"
      },
      "source": [
        "arr=model.predict(img_test_1d)\n",
        "print(arr)\n",
        "print(\"Number:  \",np.where(arr == np.amax(arr))[1])"
      ],
      "execution_count": 47,
      "outputs": [
        {
          "output_type": "stream",
          "name": "stdout",
          "text": [
            "[[0. 0. 0. 0. 1. 0. 0. 0. 0. 0.]]\n",
            "Number:   [4]\n"
          ]
        }
      ]
    },
    {
      "cell_type": "code",
      "metadata": {
        "id": "ytGEkNUEWCFt"
      },
      "source": [
        ""
      ],
      "execution_count": null,
      "outputs": []
    },
    {
      "cell_type": "code",
      "metadata": {
        "id": "pluXn5Aupvsw"
      },
      "source": [
        "from google.colab import drive\n",
        "drive.mount('/content/drive')"
      ],
      "execution_count": null,
      "outputs": []
    }
  ]
}